{
 "cells": [
  {
   "cell_type": "code",
   "execution_count": 1,
   "metadata": {},
   "outputs": [],
   "source": [
    "import tensorflow as tf\n",
    "import numpy as np"
   ]
  },
  {
   "cell_type": "markdown",
   "metadata": {},
   "source": [
    "    tf.where(判断,A,B)判断函数返回A或B"
   ]
  },
  {
   "cell_type": "code",
   "execution_count": 2,
   "metadata": {},
   "outputs": [
    {
     "name": "stdout",
     "output_type": "stream",
     "text": [
      "tf.Tensor([1 2 3 4 5], shape=(5,), dtype=int32)\n"
     ]
    }
   ],
   "source": [
    "a = tf.constant([1,2,3,1,1])\n",
    "b = tf.constant([0,1,3,4,5])\n",
    "c = tf.where(tf.greater(a,b),a,b) #greater函数判断a是否大于b\n",
    "print(c)"
   ]
  },
  {
   "cell_type": "markdown",
   "metadata": {},
   "source": [
    "    生成数组：np.mgrid[起始值:结束值:步长]\n",
    "    .ravel()变为一维\n",
    "    np.c_[A，B]，数值点间隔配对"
   ]
  },
  {
   "cell_type": "code",
   "execution_count": 3,
   "metadata": {},
   "outputs": [
    {
     "name": "stdout",
     "output_type": "stream",
     "text": [
      "[[1. 1. 1. 1.]\n",
      " [2. 2. 2. 2.]]\n",
      "[[2.  2.5 3.  3.5]\n",
      " [2.  2.5 3.  3.5]]\n",
      "[[1.  2. ]\n",
      " [1.  2.5]\n",
      " [1.  3. ]\n",
      " [1.  3.5]\n",
      " [2.  2. ]\n",
      " [2.  2.5]\n",
      " [2.  3. ]\n",
      " [2.  3.5]]\n"
     ]
    }
   ],
   "source": [
    "x,y = np.mgrid[1:3:1,2:4:0.5]\n",
    "grid = np.c_[x.ravel(),y.ravel()]\n",
    "print(x)\n",
    "print(y)\n",
    "print(grid)"
   ]
  },
  {
   "cell_type": "markdown",
   "metadata": {},
   "source": [
    "    激活函数：tf.nn.sigmoid(x);tf.math.tanh(x);tf.nn.relu(x);tf.nn.leaky_relu(x)"
   ]
  },
  {
   "cell_type": "markdown",
   "metadata": {},
   "source": [
    "    损失函数：均方差tf.reduce_mean(tf.square(x-x_));交叉熵tf.losses.categorical_crossentropy(y_,y) \n",
    "    同时计算y的softmax：tf.nn.softmax_cross_entropy_with_logits(y_,y)"
   ]
  }
 ],
 "metadata": {
  "kernelspec": {
   "display_name": "Python 3",
   "language": "python",
   "name": "python3"
  },
  "language_info": {
   "codemirror_mode": {
    "name": "ipython",
    "version": 3
   },
   "file_extension": ".py",
   "mimetype": "text/x-python",
   "name": "python",
   "nbconvert_exporter": "python",
   "pygments_lexer": "ipython3",
   "version": "3.8.3"
  }
 },
 "nbformat": 4,
 "nbformat_minor": 4
}
